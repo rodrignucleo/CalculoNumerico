{
  "nbformat": 4,
  "nbformat_minor": 0,
  "metadata": {
    "colab": {
      "name": "Math.ipynb",
      "provenance": [],
      "authorship_tag": "ABX9TyOJI3qxvzDRn2A1EUNRw8Pf",
      "include_colab_link": true
    },
    "kernelspec": {
      "name": "python3",
      "display_name": "Python 3"
    }
  },
  "cells": [
    {
      "cell_type": "markdown",
      "metadata": {
        "id": "view-in-github",
        "colab_type": "text"
      },
      "source": [
        "<a href=\"https://colab.research.google.com/github/rodrignucleo/CalculoNumerico/blob/main/Math.ipynb\" target=\"_parent\"><img src=\"https://colab.research.google.com/assets/colab-badge.svg\" alt=\"Open In Colab\"/></a>"
      ]
    },
    {
      "cell_type": "code",
      "metadata": {
        "id": "IwEC_UhL_Ksk"
      },
      "source": [
        "import math\r\n",
        "import cmath"
      ],
      "execution_count": null,
      "outputs": []
    },
    {
      "cell_type": "code",
      "metadata": {
        "colab": {
          "base_uri": "https://localhost:8080/"
        },
        "id": "IEJl8Nn7AEMx",
        "outputId": "db858127-e10e-4c16-fe24-996e10922541"
      },
      "source": [
        "xa = float(input(\"Insira Xa: \"))\r\n",
        "xb = float(input(\"Insira Xb: \"))\r\n",
        "fa = ((xa*xa)/4) - math.sin(xa)\r\n",
        "fb = ((xb*xb)/4) - math.sin(xb)\r\n",
        "\r\n",
        "\r\n",
        "if (fa*fb < 0):\r\n",
        "  print(\"A RAIZ ESTA DENTRO DO INTERVALO DADO\")\r\n",
        "  for k in range(10):\r\n",
        "    xk = (xa + xb)/2\r\n",
        "    fk = ((xk*xk)/4) - math.sin(xk)\r\n",
        "\r\n",
        "    print(\"\\n\" ,k+1 , \"º ITERAÇÃO\")\r\n",
        "    if ((fk * fa) > 0):\r\n",
        "      xa = xk\r\n",
        "      print(\"DEU MAIOR\")\r\n",
        "      \r\n",
        "    if  ((fk * fa) <= 0):\r\n",
        "      xb = xk\r\n",
        "      print(\"DEU MENOR\")\r\n",
        "\r\n",
        "    print(\"Xk = \", xk)\r\n",
        "    print(\"F(k) = \", fk, \"\\n\")\r\n",
        "\r\n",
        "    if (abs(fk) < ((1/(10)) * (1/(10))) ):\r\n",
        "      print(\"A RAIZ PROCURADA é X\", k+1, \"=\", fk, \"\")\r\n",
        "      break\r\n",
        "\r\n",
        "else:\r\n",
        "  print(\"A RAIZ ESTA FORA DO INTERVALO DADO\")"
      ],
      "execution_count": null,
      "outputs": [
        {
          "output_type": "stream",
          "text": [
            "Insira Xa: 1.8\n",
            "Insira Xb: 2\n",
            "A RAIZ ESTA DENTRO DO INTERVALO DADO\n",
            "\n",
            " 1 º ITERAÇÃO\n",
            "DEU MAIOR\n",
            "Xk =  1.9\n",
            "F(k) =  -0.0438000876874145 \n",
            "\n",
            "\n",
            " 2 º ITERAÇÃO\n",
            "DEU MENOR\n",
            "Xk =  1.95\n",
            "F(k) =  0.02166528499613063 \n",
            "\n",
            "\n",
            " 3 º ITERAÇÃO\n",
            "DEU MAIOR\n",
            "Xk =  1.9249999999999998\n",
            "F(k) =  -0.01151673701372824 \n",
            "\n",
            "\n",
            " 4 º ITERAÇÃO\n",
            "DEU MENOR\n",
            "Xk =  1.9375\n",
            "F(k) =  0.0049622816376238 \n",
            "\n",
            "A RAIZ PROCURADA é X 4 = 0.0049622816376238 \n"
          ],
          "name": "stdout"
        }
      ]
    },
    {
      "cell_type": "code",
      "metadata": {
        "id": "1JWDuOhSLhdp"
      },
      "source": [
        ""
      ],
      "execution_count": null,
      "outputs": []
    }
  ]
}